{
 "cells": [
  {
   "cell_type": "code",
   "execution_count": 1,
   "metadata": {
    "colab": {
     "autoexec": {
      "startup": false,
      "wait_interval": 0
     }
    },
    "colab_type": "code",
    "id": "CvXQfgMAXhnC"
   },
   "outputs": [],
   "source": [
    "import numpy as np\n",
    "import random\n",
    "from random import randint\n",
    "import time\n",
    "import matplotlib.pyplot as plt\n",
    "import matplotlib\n",
    "import os"
   ]
  },
  {
   "cell_type": "code",
   "execution_count": 2,
   "metadata": {
    "colab": {
     "autoexec": {
      "startup": false,
      "wait_interval": 0
     }
    },
    "colab_type": "code",
    "id": "vzkAWLtMXhnW"
   },
   "outputs": [],
   "source": [
    "global n,d\n",
    "n = 4613#10000#39861#1500\n",
    "d = 737#102660#12419"
   ]
  },
  {
   "cell_type": "code",
   "execution_count": 3,
   "metadata": {
    "colab": {
     "autoexec": {
      "startup": false,
      "wait_interval": 0
     }
    },
    "colab_type": "code",
    "id": "-q0eCec5Xhni"
   },
   "outputs": [],
   "source": [
    "def searchtime(matrix,flag):\n",
    "    nearestneighbours = []\n",
    "    start = time.time()\n",
    "    for i in range(n):\n",
    "        if(flag == True):\n",
    "            js = getcosinesimilarity(matrix[i], matrix[15])\n",
    "        else:\n",
    "            js = getinteger(matrix[i], matrix[15])\n",
    "                \n",
    "        #if(js >= 0.8):\n",
    "        #    nearestneighbours.append(i)\n",
    "    end = time.time()\n",
    "    search = end-start\n",
    "    print(search)\n",
    "    return search"
   ]
  },
  {
   "cell_type": "code",
   "execution_count": 4,
   "metadata": {
    "colab": {
     "autoexec": {
      "startup": false,
      "wait_interval": 0
     }
    },
    "colab_type": "code",
    "id": "nANqfj9BXhnt"
   },
   "outputs": [],
   "source": [
    "def readdataset():\n",
    "    dataset = np.loadtxt(\"../dataset/bbc_sport.txt\", dtype=int, usecols =(0,1), skiprows=3)    \n",
    "    matrix = np.zeros([n,d])\n",
    "    print (dataset.shape)\n",
    "    for i in range(n):\n",
    "        x = dataset[i][0]\n",
    "        y = dataset[i][1]\n",
    "        #print (x,y)\n",
    "        matrix[x-1][y-1] = 1\n",
    "    return matrix"
   ]
  },
  {
   "cell_type": "code",
   "execution_count": 5,
   "metadata": {
    "colab": {
     "autoexec": {
      "startup": false,
      "wait_interval": 0
     }
    },
    "colab_type": "code",
    "id": "n4VSwp-CXhn3"
   },
   "outputs": [],
   "source": [
    "def convertocompact(matrix):\n",
    "    compact = []\n",
    "    for i in range(matrix.shape[0]):\n",
    "        current = []\n",
    "        for j in range(matrix.shape[1]):\n",
    "            if(matrix[i][j]==1):\n",
    "                current.append(j)\n",
    "        compact.append(current)\n",
    "    return compact"
   ]
  },
  {
   "cell_type": "code",
   "execution_count": 6,
   "metadata": {
    "colab": {
     "autoexec": {
      "startup": false,
      "wait_interval": 0
     }
    },
    "colab_type": "code",
    "id": "623fbIENXhoA"
   },
   "outputs": [],
   "source": [
    "def getcosinesimilarity(a, b):\n",
    "    innerproduct = np.inner(a,b)\n",
    "    a1 = np.count_nonzero(a)\n",
    "    b1 = np.count_nonzero(b)\n",
    "    cs = innerproduct/(np.sqrt(a1)*np.sqrt(b1))\n",
    "    return cs"
   ]
  },
  {
   "cell_type": "code",
   "execution_count": 7,
   "metadata": {
    "colab": {
     "autoexec": {
      "startup": false,
      "wait_interval": 0
     }
    },
    "colab_type": "code",
    "id": "z2fPGhboXhoI"
   },
   "outputs": [],
   "source": [
    "def getinteger(a, b):\n",
    "    count = 0\n",
    "    x = a-b\n",
    "    for i in range(len(a)):\n",
    "        if(x[i] == 0):\n",
    "            count += 1\n",
    "    return count/len(a)"
   ]
  },
  {
   "cell_type": "code",
   "execution_count": 8,
   "metadata": {
    "colab": {
     "autoexec": {
      "startup": false,
      "wait_interval": 0
     }
    },
    "colab_type": "code",
    "id": "q6WSmNVPXhoQ"
   },
   "outputs": [],
   "source": [
    "def ourtransform(reduceddim, matrix, n, d):\n",
    "    start = time.time()\n",
    "    mapping = []\n",
    "    compressedmatrix = np.zeros([n,reduceddim])\n",
    "    for i in range(d):\n",
    "        toss = randint(0, reduceddim-1)\n",
    "        mapping.append(toss)\n",
    "    for i in range(n):\n",
    "        vector = matrix[i]\n",
    "        for j in vector:\n",
    "            compressedmatrix[i][mapping[j]] += 1\n",
    "        for j in vector:\n",
    "            compressedmatrix[i][mapping[j]] = compressedmatrix[i][mapping[j]]%2\n",
    "        \n",
    "    end = time.time()\n",
    "    totaltime = end - start\n",
    "    print(totaltime)\n",
    "    timeforour.append(totaltime)\n",
    "    return compressedmatrix"
   ]
  },
  {
   "cell_type": "code",
   "execution_count": 9,
   "metadata": {
    "colab": {
     "autoexec": {
      "startup": false,
      "wait_interval": 0
     }
    },
    "colab_type": "code",
    "id": "1GU1wutDXhoc"
   },
   "outputs": [],
   "source": [
    "def getpairsets(matrix, num ,flag):\n",
    "    set01 = set([])\n",
    "    set02 = set([])\n",
    "    set03 = set([])\n",
    "    set04 = set([])\n",
    "    set05 = set([])\n",
    "    set06 = set([])\n",
    "    set07 = set([])\n",
    "    set08 = set([])\n",
    "    set09 = set([])\n",
    "    \n",
    "    vector = matrix[num]\n",
    "    j = num\n",
    "    for i in range(461,4613):\n",
    "        if(flag==True):\n",
    "            hdistance = getcosinesimilarity(vector, matrix[i])\n",
    "            #print(hdistance)\n",
    "        else:\n",
    "            hdistance = getinteger(vector, matrix[i])\n",
    "\n",
    "            \n",
    "        if(hdistance >= 0.9):\n",
    "            set09.add((i,j))\n",
    "        if(hdistance >= 0.8):\n",
    "            set08.add((i,j))\n",
    "        if(hdistance >= 0.7):\n",
    "            set07.add((i,j))\n",
    "        if(hdistance >= 0.6):\n",
    "            set06.add((i,j))\n",
    "        if(hdistance >= 0.5):\n",
    "            set05.add((i,j))\n",
    "        if(hdistance >= 0.4):\n",
    "            set04.add((i,j))\n",
    "        if(hdistance >= 0.3):\n",
    "            set03.add((i,j))\n",
    "        if(hdistance >= 0.2):\n",
    "            set02.add((i,j))\n",
    "        if(hdistance >= 0.1):\n",
    "            set01.add((i,j))\n",
    "            #print(\"inset1\")\n",
    "    return set01,set02,set03,set04,set05,set06,set07,set08,set09\n",
    "    "
   ]
  },
  {
   "cell_type": "code",
   "execution_count": 10,
   "metadata": {
    "colab": {
     "autoexec": {
      "startup": false,
      "wait_interval": 0
     }
    },
    "colab_type": "code",
    "id": "a8PR9_2vXhop"
   },
   "outputs": [],
   "source": [
    "def calculateaccuracy(vec, matrix, compressedmatrix, flag):\n",
    "    \n",
    "    accuracy = []\n",
    "    \n",
    "    oset1,oset2,oset3,oset4,oset5,oset6,oset7,oset8,oset9 = getpairsets(matrix, vec, True)\n",
    "    cset1,cset2,cset3,cset4,cset5,cset6,cset7,cset8,cset9 = getpairsets(compressedmatrix, vec, flag)\n",
    "    \n",
    "    intersection1 = len(oset1.intersection(cset1))\n",
    "    #print(intersection1)\n",
    "    intersection2 = len(oset2.intersection(cset2))\n",
    "    intersection3 = len(oset3.intersection(cset3))\n",
    "    intersection4 = len(oset4.intersection(cset4))\n",
    "    intersection5 = len(oset5.intersection(cset5))\n",
    "    intersection6 = len(oset6.intersection(cset6))\n",
    "    intersection7 = len(oset7.intersection(cset7))\n",
    "    intersection8 = len(oset8.intersection(cset8))\n",
    "    intersection9 = len(oset9.intersection(cset9))\n",
    "    \n",
    "    union1 = len(oset1.union(cset1))\n",
    "    #print(union1)\n",
    "    union2 = len(oset2.union(cset2))\n",
    "    union3 = len(oset3.union(cset3))\n",
    "    union4 = len(oset4.union(cset4))\n",
    "    union5 = len(oset5.union(cset5))\n",
    "    union6 = len(oset6.union(cset6))\n",
    "    union7 = len(oset7.union(cset7))\n",
    "    union8 = len(oset8.union(cset8))\n",
    "    union9 = len(oset9.union(cset9))\n",
    "    \n",
    "        \n",
    "    if(union1==0):\n",
    "        accuracy1 = 1\n",
    "        #print(\"GONE\")\n",
    "    else:\n",
    "        accuracy1 = intersection1/union1\n",
    "        #print(\"accuracy1\")\n",
    "        \n",
    "    if(union2==0):\n",
    "        accuracy2 = 1\n",
    "    else:\n",
    "        accuracy2 = intersection2/union2\n",
    "        \n",
    "    if(union3==0):\n",
    "        accuracy3 = 1\n",
    "    else:\n",
    "        accuracy3 = intersection3/union3\n",
    "        \n",
    "    if(union4==0):\n",
    "        accuracy4 = 1\n",
    "    else:\n",
    "        accuracy4 = intersection4/union4\n",
    "        \n",
    "    if(union5==0):\n",
    "        accuracy5 = 1\n",
    "    else:\n",
    "        accuracy5 = intersection5/union5\n",
    "    if(union6==0):\n",
    "        accuracy6 = 1\n",
    "    else:\n",
    "        accuracy6 = intersection6/union6\n",
    "        \n",
    "    if(union7==0):\n",
    "        accuracy7 = 1\n",
    "    else:\n",
    "        accuracy7 = intersection7/union7\n",
    "        \n",
    "    if(union8==0):\n",
    "        accuracy8 = 1\n",
    "    else:\n",
    "        accuracy8 = intersection8/union8\n",
    "        \n",
    "    if(union9==0):\n",
    "        accuracy9 = 1\n",
    "    else:\n",
    "        accuracy9 = intersection9/union9\n",
    "        \n",
    "        \n",
    "    accuracy.append(accuracy1)\n",
    "    accuracy.append(accuracy2)\n",
    "    accuracy.append(accuracy3)\n",
    "    accuracy.append(accuracy4)\n",
    "    accuracy.append(accuracy5)\n",
    "    accuracy.append(accuracy6)\n",
    "    accuracy.append(accuracy7)\n",
    "    accuracy.append(accuracy8)\n",
    "    accuracy.append(accuracy9)\n",
    "    \n",
    "    return accuracy\n"
   ]
  },
  {
   "cell_type": "code",
   "execution_count": 11,
   "metadata": {
    "colab": {
     "autoexec": {
      "startup": false,
      "wait_interval": 0
     }
    },
    "colab_type": "code",
    "id": "vwim3V1_Xho9"
   },
   "outputs": [],
   "source": [
    "dimsaftercompression = [50, 100, 500, 1000, 1500, 2000, 2500, 3000, 4000, 5000]"
   ]
  },
  {
   "cell_type": "code",
   "execution_count": 12,
   "metadata": {
    "colab": {
     "autoexec": {
      "startup": false,
      "wait_interval": 0
     }
    },
    "colab_type": "code",
    "id": "qwV9POIaXhpH"
   },
   "outputs": [],
   "source": [
    "def getalldataour(matrix):\n",
    "    \n",
    "    dimaccuracy = np.zeros([9,461])\n",
    "    mean = []\n",
    "    compactmatrix = convertocompact(matrix)\n",
    "    \n",
    "    for i in dimsaftercompression:\n",
    "        searchaccuracy = []\n",
    "        accuracyour = []\n",
    "        compressedmatrix = ourtransform(i, compactmatrix, matrix.shape[0], matrix.shape[1])\n",
    "        #search.append(searchtime(compressedmatrix, True))\n",
    "\n",
    "        for j in range(461):\n",
    "            searchaccuracy.append(calculateaccuracy(compressedmatrix=compressedmatrix,flag=True,vec=j,matrix=matrix))\n",
    "            \n",
    "            \n",
    "        print(len(searchaccuracy))\n",
    "        \n",
    "        \n",
    "        for k in range(461):\n",
    "            sa = searchaccuracy[k]\n",
    "            for l in range(9):\n",
    "                dimaccuracy[l][k] = sa[l]\n",
    "                \n",
    "        x = np.mean(dimaccuracy, axis = 1)\n",
    "        mean.append(x)\n",
    "        \n",
    "    accuracymatrix = np.zeros([9,10])\n",
    "    for i in range(10):\n",
    "        vector = mean[i]\n",
    "        for j in range(9):\n",
    "            accuracymatrix[j][i] = vector[j]\n",
    "    return accuracymatrix\n",
    "        \n",
    "        \n",
    "        "
   ]
  },
  {
   "cell_type": "code",
   "execution_count": 13,
   "metadata": {
    "colab": {
     "autoexec": {
      "startup": false,
      "wait_interval": 0
     }
    },
    "colab_type": "code",
    "id": "bbRag3AzXhpS"
   },
   "outputs": [],
   "source": [
    "def plotaccuracy(accuracy):    \n",
    "    setof = [0.1,0.2,.3,0.4,0.5,0.6,0.7,0.8,0.9]\n",
    "    plt.figure(figsize=(3,3))\n",
    "    for i in range(accuracy.shape[0]):\n",
    "        plt.plot(dimsaftercompression, accuracy[i], label = setof[i] )\n",
    "    #plt.grid(b=True, which='major')\n",
    "    \n",
    "    plt.xticks([0,1000,2000,3000,4000,5000])\n",
    "    plt.yticks([0,0.1,0.2,0.3,0.4,0.5,0.6,0.7,0.8,0.9,1,1.1])\n",
    "    #matplotlib.rc('xtick', labelsize=10) \n",
    "    #matplotlib.rc('ytick', labelsize=10)\n",
    "    plt.xlabel('Compression Length')\n",
    "    plt.ylabel('Accuracy')\n",
    "    plt.legend(prop={'size':8},loc = 4)\n",
    "    plt.savefig('Accuracy Vs Compression Length.jpg', bbox_inches='tight')\n",
    "    plt.show()"
   ]
  },
  {
   "cell_type": "code",
   "execution_count": 14,
   "metadata": {
    "colab": {
     "autoexec": {
      "startup": false,
      "wait_interval": 0
     }
    },
    "colab_type": "code",
    "id": "NMNkzkbLXhpb"
   },
   "outputs": [],
   "source": [
    "def plotcompressiontime(timetaken):    \n",
    "    plt.figure(figsize=(3,3))\n",
    "    plt.plot(dimsaftercompression, timetaken)\n",
    "    #plt.grid(b=True, which='major')\n",
    "    #plt.xticks(dimsaftercompression)\n",
    "    #plt.xticks([0,2000,4000,6000,8000,10000])\n",
    "    #plt.yticks([0,1,2,3,4,5,6,7,8])\n",
    "    #matplotlib.rc('xtick', labelsize=10) \n",
    "    #matplotlib.rc('ytick', labelsize=10) \n",
    "    plt.xlabel('Compression Length')\n",
    "    plt.ylabel('Compression Time (s)')\n",
    "    plt.savefig('Compression Time Vs Compression Length.jpg', bbox_inches='tight')\n",
    "    \n",
    "    plt.show()"
   ]
  },
  {
   "cell_type": "code",
   "execution_count": 15,
   "metadata": {
    "colab": {
     "autoexec": {
      "startup": false,
      "wait_interval": 0
     }
    },
    "colab_type": "code",
    "id": "xzJR9NGKXhpi"
   },
   "outputs": [],
   "source": [
    "def plotsearchtime(timetaken):    \n",
    "    plt.figure(figsize=(3,3))\n",
    "    plt.plot(dimsaftercompression, timetaken)\n",
    "    #plt.grid(b=True, which='major')\n",
    "    #plt.xticks(dimsaftercompression)\n",
    "    #plt.xticks([0,2000,4000,6000,8000,10000])\n",
    "    #plt.yticks([0,1,2,3,4,5,6,7,8])\n",
    "    #matplotlib.rc('xtick', labelsize=10) \n",
    "    #matplotlib.rc('ytick', labelsize=10) \n",
    "    plt.xlabel('Compression Length')\n",
    "    plt.ylabel('Search Time (s)')\n",
    "    plt.savefig('Search Time Vs Compression Length.jpg', bbox_inches='tight')\n",
    "    \n",
    "    plt.show()"
   ]
  },
  {
   "cell_type": "code",
   "execution_count": 16,
   "metadata": {
    "colab": {
     "autoexec": {
      "startup": false,
      "wait_interval": 0
     },
     "base_uri": "https://localhost:8080/",
     "height": 53
    },
    "colab_type": "code",
    "executionInfo": {
     "elapsed": 32990,
     "status": "ok",
     "timestamp": 1532829870918,
     "user": {
      "displayName": "Karthik Revanuru",
      "photoUrl": "//lh6.googleusercontent.com/-xXq_Hz9mWwg/AAAAAAAAAAI/AAAAAAAABEg/TjD0u6izH-Y/s50-c-k-no/photo.jpg",
      "userId": "110203549390085495886"
     },
     "user_tz": -330
    },
    "id": "QnOvFUIwXhpq",
    "outputId": "28f9e9e0-971a-46d0-9bac-66a9156fd209"
   },
   "outputs": [
    {
     "name": "stdout",
     "output_type": "stream",
     "text": [
      "/home/reckonsys/CODS/BBC/BCS\n",
      "(286774, 2)\n"
     ]
    }
   ],
   "source": [
    "#os.chdir(\"/content/\")\n",
    "print (os.getcwd())\n",
    "matrix = readdataset()"
   ]
  },
  {
   "cell_type": "code",
   "execution_count": 17,
   "metadata": {
    "colab": {
     "autoexec": {
      "startup": false,
      "wait_interval": 0
     }
    },
    "colab_type": "code",
    "id": "L5Nx_T_KXhp3"
   },
   "outputs": [
    {
     "name": "stdout",
     "output_type": "stream",
     "text": [
      "0.017894983291625977\n"
     ]
    },
    {
     "name": "stderr",
     "output_type": "stream",
     "text": [
      "/usr/local/lib/python3.6/dist-packages/ipykernel_launcher.py:5: RuntimeWarning: invalid value encountered in double_scalars\n",
      "  \"\"\"\n"
     ]
    },
    {
     "name": "stdout",
     "output_type": "stream",
     "text": [
      "963\n",
      "0.018073320388793945\n",
      "963\n",
      "0.01893019676208496\n",
      "963\n",
      "0.019231557846069336\n",
      "963\n",
      "0.01914358139038086\n",
      "963\n",
      "0.01891493797302246\n",
      "963\n",
      "0.019130706787109375\n",
      "963\n",
      "0.0194089412689209\n",
      "963\n",
      "0.01871466636657715\n",
      "963\n",
      "0.02179121971130371\n",
      "963\n"
     ]
    }
   ],
   "source": [
    "\n",
    "timeforour = []\n",
    "search = []\n",
    "thisis = getalldataour(matrix)\n"
   ]
  },
  {
   "cell_type": "code",
   "execution_count": 18,
   "metadata": {
    "colab": {
     "autoexec": {
      "startup": false,
      "wait_interval": 0
     }
    },
    "colab_type": "code",
    "id": "fllb2W-oXhqB"
   },
   "outputs": [
    {
     "data": {
      "image/png": "[encoded data removed]",
      "text/plain": [
       "<Figure size 216x216 with 1 Axes>"
      ]
     },
     "metadata": {},
     "output_type": "display_data"
    }
   ],
   "source": [
    "plotaccuracy(thisis)"
   ]
  },
  {
   "cell_type": "code",
   "execution_count": 19,
   "metadata": {
    "colab": {
     "autoexec": {
      "startup": false,
      "wait_interval": 0
     }
    },
    "colab_type": "code",
    "id": "QD-lvZpLXhqV"
   },
   "outputs": [
    {
     "data": {
      "image/png": "[encoded data removed]",
      "text/plain": [
       "<Figure size 216x216 with 1 Axes>"
      ]
     },
     "metadata": {},
     "output_type": "display_data"
    }
   ],
   "source": [
    "plotcompressiontime(timeforour)"
   ]
  },
  {
   "cell_type": "code",
   "execution_count": 20,
   "metadata": {
    "colab": {
     "autoexec": {
      "startup": false,
      "wait_interval": 0
     }
    },
    "colab_type": "code",
    "id": "OiwoDwAsXhqn"
   },
   "outputs": [],
   "source": [
    "#plotsearchtime(search)"
   ]
  },
  {
   "cell_type": "code",
   "execution_count": 21,
   "metadata": {
    "colab": {
     "autoexec": {
      "startup": false,
      "wait_interval": 0
     }
    },
    "colab_type": "code",
    "id": "kjPw6KQQXhq_"
   },
   "outputs": [],
   "source": [
    "#s=np.asarray(search)\n",
    "t=np.asarray(timeforour)"
   ]
  },
  {
   "cell_type": "code",
   "execution_count": 22,
   "metadata": {
    "colab": {
     "autoexec": {
      "startup": false,
      "wait_interval": 0
     }
    },
    "colab_type": "code",
    "id": "p2EOFXlB9sGi"
   },
   "outputs": [],
   "source": [
    "np.save(\"thisis.npy\",thisis)\n",
    "#np.save(\"search.npy\",s)\n",
    "np.save(\"compression.npy\",t)"
   ]
  }
 ],
 "metadata": {
  "colab": {
   "collapsed_sections": [],
   "default_view": {},
   "name": "Cosine_Similarity_BCS.ipynb",
   "provenance": [],
   "version": "0.3.2",
   "views": {}
  },
  "kernelspec": {
   "display_name": "Python 3",
   "language": "python",
   "name": "python3"
  },
  "language_info": {
   "codemirror_mode": {
    "name": "ipython",
    "version": 3
   },
   "file_extension": ".py",
   "mimetype": "text/x-python",
   "name": "python",
   "nbconvert_exporter": "python",
   "pygments_lexer": "ipython3",
   "version": "3.6.5"
  }
 },
 "nbformat": 4,
 "nbformat_minor": 1
}
