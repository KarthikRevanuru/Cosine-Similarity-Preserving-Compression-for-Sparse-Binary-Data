{
 "cells": [
  {
   "cell_type": "code",
   "execution_count": 1,
   "metadata": {
    "colab": {
     "autoexec": {
      "startup": false,
      "wait_interval": 0
     }
    },
    "colab_type": "code",
    "id": "-W7-JX8kyn6V"
   },
   "outputs": [],
   "source": [
    "import numpy as np\n",
    "import random\n",
    "from random import randint\n",
    "import time\n",
    "import matplotlib.pyplot as plt\n",
    "import matplotlib\n",
    "import os"
   ]
  },
  {
   "cell_type": "code",
   "execution_count": 2,
   "metadata": {
    "colab": {
     "autoexec": {
      "startup": false,
      "wait_interval": 0
     }
    },
    "colab_type": "code",
    "id": "h4_Gq-k-yn6r"
   },
   "outputs": [],
   "source": [
    "global n,d\n",
    "n = 4613#10000#39861#1500\n",
    "d = 737#102660#12419"
   ]
  },
  {
   "cell_type": "code",
   "execution_count": 3,
   "metadata": {
    "colab": {
     "autoexec": {
      "startup": false,
      "wait_interval": 0
     }
    },
    "colab_type": "code",
    "id": "pIsgebaHyn63"
   },
   "outputs": [],
   "source": [
    "def searchtime(matrix,flag):\n",
    "    nearestneighbours = []\n",
    "    start = time.time()\n",
    "    for i in range(matrix.shape[0]):\n",
    "        if(flag == True):\n",
    "            js = getcosinesimilarity(matrix[i], matrix[15])\n",
    "        else:\n",
    "            js = getinteger(matrix[i], matrix[15])\n",
    "                \n",
    "       # if(js >= 0.8):\n",
    "       #     nearestneighbours.append(i)\n",
    "    end = time.time()\n",
    "    search = end-start\n",
    "    print(search)\n",
    "    return search"
   ]
  },
  {
   "cell_type": "code",
   "execution_count": 4,
   "metadata": {
    "colab": {
     "autoexec": {
      "startup": false,
      "wait_interval": 0
     }
    },
    "colab_type": "code",
    "id": "Qvzd2Oz6yn7C"
   },
   "outputs": [],
   "source": [
    "def readdataset():\n",
    "    dataset = np.loadtxt(\"../dataset/bbc_sport.txt\", dtype=int, usecols =(0,1), skiprows=3)    \n",
    "    matrix = np.zeros([n,d],dtype=np.int8)\n",
    "    print (dataset.shape)\n",
    "    total = dataset.shape[0]\n",
    "    i=0\n",
    "    while(1):\n",
    "    #for i in range(n):\n",
    "        if i==total:\n",
    "            break\n",
    "        x = dataset[i][0]\n",
    "        y = dataset[i][1]\n",
    "        #print(x)\n",
    "        if x>=n+1:\n",
    "            break\n",
    "        matrix[x-1][y-1] = 1\n",
    "        i+=1\n",
    "    print(i)\n",
    "    return matrix"
   ]
  },
  {
   "cell_type": "code",
   "execution_count": 5,
   "metadata": {
    "colab": {
     "autoexec": {
      "startup": false,
      "wait_interval": 0
     }
    },
    "colab_type": "code",
    "id": "0zuAq_7Xyn7O"
   },
   "outputs": [],
   "source": [
    "def convertocompact(matrix):\n",
    "    compact = []\n",
    "    for i in range(matrix.shape[0]):\n",
    "        current = []\n",
    "        for j in range(matrix.shape[1]):\n",
    "            if(matrix[i][j]==1):\n",
    "                current.append(j)\n",
    "        compact.append(current)\n",
    "    return compact"
   ]
  },
  {
   "cell_type": "code",
   "execution_count": 6,
   "metadata": {
    "colab": {
     "autoexec": {
      "startup": false,
      "wait_interval": 0
     }
    },
    "colab_type": "code",
    "id": "GsFH2TFAyn7X"
   },
   "outputs": [],
   "source": [
    "def getcosinesimilarity(a, b):\n",
    "    hammingdistance = np.count_nonzero(a!=b)\n",
    "    cs = np.cos((np.pi/len(a))*hammingdistance) # length of a and b is equal\n",
    "    return cs"
   ]
  },
  {
   "cell_type": "code",
   "execution_count": 7,
   "metadata": {
    "colab": {
     "autoexec": {
      "startup": false,
      "wait_interval": 0
     }
    },
    "colab_type": "code",
    "id": "bItRyCTxyn7f"
   },
   "outputs": [],
   "source": [
    "def getinteger(a, b):\n",
    "    innerproduct = np.inner(a,b)\n",
    "    a1 = np.count_nonzero(a)\n",
    "    b1 = np.count_nonzero(b)\n",
    "    if a1==0 or b1==0:\n",
    "        cs=1\n",
    "    else:\n",
    "        cs = innerproduct/(np.sqrt(a1)*np.sqrt(b1))\n",
    "    return cs"
   ]
  },
  {
   "cell_type": "code",
   "execution_count": 8,
   "metadata": {
    "colab": {
     "autoexec": {
      "startup": false,
      "wait_interval": 0
     }
    },
    "colab_type": "code",
    "id": "ThI5dfvGyn7n"
   },
   "outputs": [],
   "source": [
    "def ourtransform(reduceddim, matrix, n, d):\n",
    "    start = time.time()\n",
    "    sigmatrix = np.zeros([n,reduceddim])\n",
    "    for i in range (reduceddim):\n",
    "        rv = np.random.choice([1,-1], size=d, p=[0.5,0.5])\n",
    "        for j in range(n):\n",
    "            vector = matrix[j]\n",
    "            ip = 0\n",
    "            for k in vector:\n",
    "                ip += rv[k]\n",
    "            if(ip>0):\n",
    "                sigmatrix[j][i] = 1\n",
    "    end = time.time()\n",
    "    totaltime = end - start\n",
    "    print(totaltime)\n",
    "    timeforour.append(totaltime)\n",
    "    return sigmatrix"
   ]
  },
  {
   "cell_type": "code",
   "execution_count": 9,
   "metadata": {
    "colab": {
     "autoexec": {
      "startup": false,
      "wait_interval": 0
     }
    },
    "colab_type": "code",
    "id": "7r6Z1qTwyn70"
   },
   "outputs": [],
   "source": [
    "def getpairsets(matrix, num ,flag):\n",
    "    set01 = set([])\n",
    "    set02 = set([])\n",
    "    set03 = set([])\n",
    "    set04 = set([])\n",
    "    set05 = set([])\n",
    "    set06 = set([])\n",
    "    set07 = set([])\n",
    "    set08 = set([])\n",
    "    set09 = set([])\n",
    "    \n",
    "    vector = matrix[num]\n",
    "    j = num\n",
    "    for i in range(461,4613):\n",
    "        if(flag==True):\n",
    "            hdistance = getcosinesimilarity(vector, matrix[i])\n",
    "            #print(hdistance)\n",
    "        else:\n",
    "            hdistance = getinteger(vector, matrix[i])\n",
    "\n",
    "            \n",
    "        if(hdistance >= 0.9):\n",
    "            set09.add((i,j))\n",
    "        if(hdistance >= 0.8):\n",
    "            set08.add((i,j))\n",
    "        if(hdistance >= 0.7):\n",
    "            set07.add((i,j))\n",
    "        if(hdistance >= 0.6):\n",
    "            set06.add((i,j))\n",
    "        if(hdistance >= 0.5):\n",
    "            set05.add((i,j))\n",
    "        if(hdistance >= 0.4):\n",
    "            set04.add((i,j))\n",
    "        if(hdistance >= 0.3):\n",
    "            set03.add((i,j))\n",
    "        if(hdistance >= 0.2):\n",
    "            set02.add((i,j))\n",
    "        if(hdistance >= 0.1):\n",
    "            set01.add((i,j))\n",
    "            #print(\"inset1\")\n",
    "    return set01,set02,set03,set04,set05,set06,set07,set08,set09\n",
    "    "
   ]
  },
  {
   "cell_type": "code",
   "execution_count": 10,
   "metadata": {
    "colab": {
     "autoexec": {
      "startup": false,
      "wait_interval": 0
     }
    },
    "colab_type": "code",
    "id": "cwZaUw3pyn8B"
   },
   "outputs": [],
   "source": [
    "def calculateaccuracy(vec, matrix, compressedmatrix, flag):\n",
    "    \n",
    "    accuracy = []\n",
    "    \n",
    "    oset1,oset2,oset3,oset4,oset5,oset6,oset7,oset8,oset9 = getpairsets(matrix, vec, False)\n",
    "    cset1,cset2,cset3,cset4,cset5,cset6,cset7,cset8,cset9 = getpairsets(compressedmatrix, vec, True)\n",
    "    \n",
    "    intersection1 = len(oset1.intersection(cset1))\n",
    "    #print(intersection1)\n",
    "    intersection2 = len(oset2.intersection(cset2))\n",
    "    intersection3 = len(oset3.intersection(cset3))\n",
    "    intersection4 = len(oset4.intersection(cset4))\n",
    "    intersection5 = len(oset5.intersection(cset5))\n",
    "    intersection6 = len(oset6.intersection(cset6))\n",
    "    intersection7 = len(oset7.intersection(cset7))\n",
    "    intersection8 = len(oset8.intersection(cset8))\n",
    "    intersection9 = len(oset9.intersection(cset9))\n",
    "    \n",
    "    union1 = len(oset1.union(cset1))\n",
    "    #print(union1)\n",
    "    union2 = len(oset2.union(cset2))\n",
    "    union3 = len(oset3.union(cset3))\n",
    "    union4 = len(oset4.union(cset4))\n",
    "    union5 = len(oset5.union(cset5))\n",
    "    union6 = len(oset6.union(cset6))\n",
    "    union7 = len(oset7.union(cset7))\n",
    "    union8 = len(oset8.union(cset8))\n",
    "    union9 = len(oset9.union(cset9))\n",
    "    \n",
    "        \n",
    "    if(union1==0):\n",
    "        accuracy1 = 1\n",
    "        #print(\"GONE\")\n",
    "    else:\n",
    "        accuracy1 = intersection1/union1\n",
    "        #print(\"accuracy1\")\n",
    "        \n",
    "    if(union2==0):\n",
    "        accuracy2 = 1\n",
    "    else:\n",
    "        accuracy2 = intersection2/union2\n",
    "        \n",
    "    if(union3==0):\n",
    "        accuracy3 = 1\n",
    "    else:\n",
    "        accuracy3 = intersection3/union3\n",
    "        \n",
    "    if(union4==0):\n",
    "        accuracy4 = 1\n",
    "    else:\n",
    "        accuracy4 = intersection4/union4\n",
    "        \n",
    "    if(union5==0):\n",
    "        accuracy5 = 1\n",
    "    else:\n",
    "        accuracy5 = intersection5/union5\n",
    "    if(union6==0):\n",
    "        accuracy6 = 1\n",
    "    else:\n",
    "        accuracy6 = intersection6/union6\n",
    "        \n",
    "    if(union7==0):\n",
    "        accuracy7 = 1\n",
    "    else:\n",
    "        accuracy7 = intersection7/union7\n",
    "        \n",
    "    if(union8==0):\n",
    "        accuracy8 = 1\n",
    "    else:\n",
    "        accuracy8 = intersection8/union8\n",
    "        \n",
    "    if(union9==0):\n",
    "        accuracy9 = 1\n",
    "    else:\n",
    "        accuracy9 = intersection9/union9\n",
    "        \n",
    "        \n",
    "    accuracy.append(accuracy1)\n",
    "    accuracy.append(accuracy2)\n",
    "    accuracy.append(accuracy3)\n",
    "    accuracy.append(accuracy4)\n",
    "    accuracy.append(accuracy5)\n",
    "    accuracy.append(accuracy6)\n",
    "    accuracy.append(accuracy7)\n",
    "    accuracy.append(accuracy8)\n",
    "    accuracy.append(accuracy9)\n",
    "    \n",
    "    return accuracy\n"
   ]
  },
  {
   "cell_type": "code",
   "execution_count": 11,
   "metadata": {
    "colab": {
     "autoexec": {
      "startup": false,
      "wait_interval": 0
     }
    },
    "colab_type": "code",
    "id": "4VXiFfT5yn8V"
   },
   "outputs": [],
   "source": [
    "dimsaftercompression = [50, 100, 500, 1000, 1500, 2000,3000,3500,4000,5000]"
   ]
  },
  {
   "cell_type": "code",
   "execution_count": 12,
   "metadata": {
    "colab": {
     "autoexec": {
      "startup": false,
      "wait_interval": 0
     }
    },
    "colab_type": "code",
    "id": "CMVMzNXTyn8h"
   },
   "outputs": [],
   "source": [
    "def getalldataour(matrix):\n",
    "    \n",
    "    dimaccuracy = np.zeros([9,461])\n",
    "    mean = []\n",
    "    compactmatrix = convertocompact(matrix)\n",
    "    \n",
    "    for i in dimsaftercompression:\n",
    "        searchaccuracy = []\n",
    "        accuracyour = []\n",
    "        compressedmatrix = ourtransform(i, compactmatrix, matrix.shape[0], matrix.shape[1])\n",
    "        search.append(searchtime(compressedmatrix, True))\n",
    "\n",
    "        for j in range(461):\n",
    "            searchaccuracy.append(calculateaccuracy(compressedmatrix=compressedmatrix,flag=True,vec=j,matrix=matrix))\n",
    "            \n",
    "            \n",
    "        print(len(searchaccuracy))\n",
    "        \n",
    "        \n",
    "        for k in range(461):\n",
    "            sa = searchaccuracy[k]\n",
    "            for l in range(9):\n",
    "                dimaccuracy[l][k] = sa[l]\n",
    "                \n",
    "        x = np.mean(dimaccuracy, axis = 1)\n",
    "        mean.append(x)\n",
    "        \n",
    "    accuracymatrix = np.zeros([9,10])\n",
    "    for i in range(10):\n",
    "        vector = mean[i]\n",
    "        for j in range(9):\n",
    "            accuracymatrix[j][i] = vector[j]\n",
    "    return accuracymatrix\n",
    "        \n",
    "        \n",
    "        "
   ]
  },
  {
   "cell_type": "code",
   "execution_count": 24,
   "metadata": {
    "colab": {
     "autoexec": {
      "startup": false,
      "wait_interval": 0
     }
    },
    "colab_type": "code",
    "id": "Jd15GoyWyn8r"
   },
   "outputs": [],
   "source": [
    "def plotaccuracy(accuracy):    \n",
    "    setof = [0.1,0.2,.3,0.4,0.5,0.6,0.7,0.8,0.9]\n",
    "    plt.figure(figsize=(3,3))\n",
    "    for i in range(accuracy.shape[0]):\n",
    "        plt.plot(dimsaftercompression, accuracy[i], label = setof[i] )\n",
    "    #plt.grid(b=True, which='major')\n",
    "    \n",
    "    plt.xticks([50,500,1000,1500,2000,3000,5000])\n",
    "    plt.yticks([0,0.1,0.2,0.3,0.4,0.5,0.6,0.7,0.8,0.9,1,1.1])\n",
    "    #matplotlib.rc('xtick', labelsize=10) \n",
    "    #matplotlib.rc('ytick', labelsize=10)\n",
    "    plt.xlabel('Compression Length')\n",
    "    plt.ylabel('Accuracy')\n",
    "    plt.legend(prop={'size':8},loc = 4)\n",
    "    plt.savefig('Accuracy Vs Compression Length.jpg', bbox_inches='tight')\n",
    "    plt.show()"
   ]
  },
  {
   "cell_type": "code",
   "execution_count": 14,
   "metadata": {
    "colab": {
     "autoexec": {
      "startup": false,
      "wait_interval": 0
     }
    },
    "colab_type": "code",
    "id": "u7ShZl9Byn82"
   },
   "outputs": [],
   "source": [
    "def plotcompressiontime(timetaken):    \n",
    "    plt.figure(figsize=(3,3))\n",
    "    plt.plot(dimsaftercompression, timetaken)\n",
    "    #plt.grid(b=True, which='major')\n",
    "    #plt.xticks(dimsaftercompression)\n",
    "    #plt.xticks([0,2000,4000,6000,8000,10000])\n",
    "    #plt.yticks([0,1,2,3,4,5,6,7,8])\n",
    "    #matplotlib.rc('xtick', labelsize=10) \n",
    "    #matplotlib.rc('ytick', labelsize=10) \n",
    "    plt.xlabel('Compression Length')\n",
    "    plt.ylabel('Compression Time (s)')\n",
    "    plt.savefig('Compression Time Vs Compression Length.jpg', bbox_inches='tight')\n",
    "    \n",
    "    plt.show()"
   ]
  },
  {
   "cell_type": "code",
   "execution_count": 15,
   "metadata": {
    "colab": {
     "autoexec": {
      "startup": false,
      "wait_interval": 0
     }
    },
    "colab_type": "code",
    "id": "mr90pCr_yn9A"
   },
   "outputs": [],
   "source": [
    "def plotsearchtime(timetaken):    \n",
    "    plt.figure(figsize=(3,3))\n",
    "    plt.plot(dimsaftercompression, timetaken)\n",
    "    #plt.grid(b=True, which='major')\n",
    "    #plt.xticks(dimsaftercompression)\n",
    "    #plt.xticks([0,2000,4000,6000,8000,10000])\n",
    "    #plt.yticks([0,1,2,3,4,5,6,7,8])\n",
    "    #matplotlib.rc('xtick', labelsize=10) \n",
    "    #matplotlib.rc('ytick', labelsize=10) \n",
    "    plt.xlabel('Compression Length')\n",
    "    plt.ylabel('Search Time (s)')\n",
    "    plt.savefig('Search Time Vs Compression Length.jpg', bbox_inches='tight')\n",
    "    \n",
    "    plt.show()"
   ]
  },
  {
   "cell_type": "code",
   "execution_count": 16,
   "metadata": {
    "colab": {
     "autoexec": {
      "startup": false,
      "wait_interval": 0
     },
     "base_uri": "https://localhost:8080/",
     "height": 53
    },
    "colab_type": "code",
    "executionInfo": {
     "elapsed": 13436,
     "status": "ok",
     "timestamp": 1532625873531,
     "user": {
      "displayName": "Karthik Revanuru",
      "photoUrl": "//lh6.googleusercontent.com/-xXq_Hz9mWwg/AAAAAAAAAAI/AAAAAAAABEg/TjD0u6izH-Y/s50-c-k-no/photo.jpg",
      "userId": "110203549390085495886"
     },
     "user_tz": -330
    },
    "id": "xiVWh3_Zyn9J",
    "outputId": "352477c8-d119-4e95-e9fb-1c46cc5a711e"
   },
   "outputs": [
    {
     "name": "stdout",
     "output_type": "stream",
     "text": [
      "/home/reckonsys/CODS_Final/BBC_Sports/SimHash\n",
      "(85576, 2)\n",
      "85576\n"
     ]
    }
   ],
   "source": [
    "#os.chdir(\"/content/\")\n",
    "print (os.getcwd())\n",
    "matrix = readdataset()"
   ]
  },
  {
   "cell_type": "code",
   "execution_count": 17,
   "metadata": {
    "colab": {
     "autoexec": {
      "startup": false,
      "wait_interval": 0
     },
     "base_uri": "https://localhost:8080/",
     "height": 553
    },
    "colab_type": "code",
    "executionInfo": {
     "elapsed": 3611913,
     "status": "ok",
     "timestamp": 1532629485554,
     "user": {
      "displayName": "Karthik Revanuru",
      "photoUrl": "//lh6.googleusercontent.com/-xXq_Hz9mWwg/AAAAAAAAAAI/AAAAAAAABEg/TjD0u6izH-Y/s50-c-k-no/photo.jpg",
      "userId": "110203549390085495886"
     },
     "user_tz": -330
    },
    "id": "TaX6PGzFyn9b",
    "outputId": "ecaaeb00-f3eb-41e1-8426-106270dd3bad"
   },
   "outputs": [
    {
     "name": "stdout",
     "output_type": "stream",
     "text": [
      "0.7447085380554199\n",
      "0.021227598190307617\n",
      "461\n",
      "1.8571503162384033\n",
      "0.026781320571899414\n",
      "461\n",
      "7.73552393913269\n",
      "0.025889873504638672\n",
      "461\n",
      "23.19819188117981\n",
      "0.04467463493347168\n",
      "461\n",
      "28.07781457901001\n",
      "0.046417236328125\n",
      "461\n",
      "37.16987609863281\n",
      "0.0688023567199707\n",
      "461\n",
      "57.31223201751709\n",
      "0.04692482948303223\n",
      "461\n",
      "63.50570321083069\n",
      "0.057660579681396484\n",
      "461\n",
      "73.91890692710876\n",
      "0.06682491302490234\n",
      "461\n",
      "90.04448461532593\n",
      "0.0641031265258789\n",
      "461\n"
     ]
    }
   ],
   "source": [
    "\n",
    "timeforour = []\n",
    "search = []\n",
    "thisis = getalldataour(matrix)\n"
   ]
  },
  {
   "cell_type": "code",
   "execution_count": 25,
   "metadata": {
    "colab": {
     "autoexec": {
      "startup": false,
      "wait_interval": 0
     },
     "base_uri": "https://localhost:8080/",
     "height": 229
    },
    "colab_type": "code",
    "executionInfo": {
     "elapsed": 3639,
     "status": "ok",
     "timestamp": 1532629489300,
     "user": {
      "displayName": "Karthik Revanuru",
      "photoUrl": "//lh6.googleusercontent.com/-xXq_Hz9mWwg/AAAAAAAAAAI/AAAAAAAABEg/TjD0u6izH-Y/s50-c-k-no/photo.jpg",
      "userId": "110203549390085495886"
     },
     "user_tz": -330
    },
    "id": "tIGvpdAtyn9k",
    "outputId": "784f5fb4-8c5b-4672-fecc-d1ec6a9121c0"
   },
   "outputs": [
    {
     "data": {
      "image/png": "[encoded data removed]",
      "text/plain": [
       "<Figure size 216x216 with 1 Axes>"
      ]
     },
     "metadata": {},
     "output_type": "display_data"
    }
   ],
   "source": [
    "plotaccuracy(thisis)"
   ]
  },
  {
   "cell_type": "code",
   "execution_count": 19,
   "metadata": {
    "colab": {
     "autoexec": {
      "startup": false,
      "wait_interval": 0
     },
     "base_uri": "https://localhost:8080/",
     "height": 225
    },
    "colab_type": "code",
    "executionInfo": {
     "elapsed": 2790,
     "status": "ok",
     "timestamp": 1532629492166,
     "user": {
      "displayName": "Karthik Revanuru",
      "photoUrl": "//lh6.googleusercontent.com/-xXq_Hz9mWwg/AAAAAAAAAAI/AAAAAAAABEg/TjD0u6izH-Y/s50-c-k-no/photo.jpg",
      "userId": "110203549390085495886"
     },
     "user_tz": -330
    },
    "id": "ErcHyvjhyn93",
    "outputId": "1652ce14-e21c-422c-db30-ceebc92e47e6"
   },
   "outputs": [
    {
     "data": {
      "image/png": "[encoded data removed]",
      "text/plain": [
       "<Figure size 216x216 with 1 Axes>"
      ]
     },
     "metadata": {},
     "output_type": "display_data"
    }
   ],
   "source": [
    "plotcompressiontime(timeforour)"
   ]
  },
  {
   "cell_type": "code",
   "execution_count": 20,
   "metadata": {
    "colab": {
     "autoexec": {
      "startup": false,
      "wait_interval": 0
     },
     "base_uri": "https://localhost:8080/",
     "height": 225
    },
    "colab_type": "code",
    "executionInfo": {
     "elapsed": 2525,
     "status": "ok",
     "timestamp": 1532629494790,
     "user": {
      "displayName": "Karthik Revanuru",
      "photoUrl": "//lh6.googleusercontent.com/-xXq_Hz9mWwg/AAAAAAAAAAI/AAAAAAAABEg/TjD0u6izH-Y/s50-c-k-no/photo.jpg",
      "userId": "110203549390085495886"
     },
     "user_tz": -330
    },
    "id": "sBCLz9HMyn-M",
    "outputId": "dfa5467e-9fd7-408e-80f0-bc2d6a740f0a"
   },
   "outputs": [
    {
     "data": {
      "image/png": "[encoded data removed]",
      "text/plain": [
       "<Figure size 216x216 with 1 Axes>"
      ]
     },
     "metadata": {},
     "output_type": "display_data"
    }
   ],
   "source": [
    "plotsearchtime(search)"
   ]
  },
  {
   "cell_type": "code",
   "execution_count": 21,
   "metadata": {
    "colab": {
     "autoexec": {
      "startup": false,
      "wait_interval": 0
     }
    },
    "colab_type": "code",
    "id": "A2IsfbEZyn-j"
   },
   "outputs": [],
   "source": [
    "s=np.asarray(search)\n",
    "t=np.asarray(timeforour)"
   ]
  },
  {
   "cell_type": "code",
   "execution_count": 22,
   "metadata": {
    "colab": {
     "autoexec": {
      "startup": false,
      "wait_interval": 0
     }
    },
    "colab_type": "code",
    "id": "Ns8X8Y7-D3Br"
   },
   "outputs": [],
   "source": [
    "np.save(\"thisis.npy\",thisis)\n",
    "np.save(\"search.npy\",s)\n",
    "np.save(\"compression.npy\",t)"
   ]
  },
  {
   "cell_type": "code",
   "execution_count": 23,
   "metadata": {},
   "outputs": [
    {
     "name": "stdout",
     "output_type": "stream",
     "text": [
      "[[0.14368844 0.16931672 0.27213518 0.36921115 0.42640375 0.47799815\n",
      "  0.51476564 0.53224522 0.54712367 0.56402972]\n",
      " [0.03321164 0.04814436 0.19173431 0.30112224 0.35499041 0.40760003\n",
      "  0.46332953 0.47651492 0.50194643 0.51534902]\n",
      " [0.00961663 0.02375775 0.1724333  0.30378579 0.38627966 0.43224049\n",
      "  0.50142692 0.49448789 0.56123991 0.56755417]\n",
      " [0.00699363 0.02677166 0.45851788 0.63675312 0.71076528 0.71886994\n",
      "  0.75414809 0.7659041  0.7720555  0.79367545]\n",
      " [0.00755037 0.03919235 0.7733307  0.82385545 0.87507354 0.87874289\n",
      "  0.89811091 0.88681755 0.88678323 0.90668224]\n",
      " [0.01438101 0.44029605 0.91671706 0.94510077 0.94386255 0.94103398\n",
      "  0.95605201 0.95359467 0.95916408 0.95802633]\n",
      " [0.2820192  0.88392039 0.97871962 0.97928933 0.98247956 0.98249148\n",
      "  0.98342113 0.98350377 0.98132265 0.98559033]\n",
      " [0.78741866 0.97722343 0.98806941 0.98806941 0.98806941 0.98806941\n",
      "  0.98806941 0.98373102 0.98806941 0.98806941]\n",
      " [0.97396963 1.         0.9978308  0.9978308  1.         1.\n",
      "  0.9978308  0.9978308  1.         1.        ]]\n"
     ]
    }
   ],
   "source": [
    "print (thisis)"
   ]
  },
  {
   "cell_type": "code",
   "execution_count": null,
   "metadata": {},
   "outputs": [],
   "source": []
  }
 ],
 "metadata": {
  "colab": {
   "collapsed_sections": [],
   "default_view": {},
   "name": "Cosine_Similarity_SimHash.ipynb",
   "provenance": [],
   "version": "0.3.2",
   "views": {}
  },
  "kernelspec": {
   "display_name": "Python 3",
   "language": "python",
   "name": "python3"
  },
  "language_info": {
   "codemirror_mode": {
    "name": "ipython",
    "version": 3
   },
   "file_extension": ".py",
   "mimetype": "text/x-python",
   "name": "python",
   "nbconvert_exporter": "python",
   "pygments_lexer": "ipython3",
   "version": "3.6.5"
  }
 },
 "nbformat": 4,
 "nbformat_minor": 1
}
