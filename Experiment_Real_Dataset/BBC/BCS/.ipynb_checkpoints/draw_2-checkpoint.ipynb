{
 "cells": [
  {
   "cell_type": "code",
   "execution_count": null,
   "metadata": {},
   "outputs": [],
   "source": [
    "import numpy as np\n",
    "from tkinter import *\n",
    "import matplotlib\n",
    "import matplotlib.pyplot as plt"
   ]
  },
  {
   "cell_type": "code",
   "execution_count": null,
   "metadata": {},
   "outputs": [],
   "source": [
    "def plotaccuracy(dimsaftercompression,accuracy):    \n",
    "    setof = [0.1,0.2,.3,0.4,0.5,0.6,0.7,0.8,0.9]\n",
    "    plt.figure(figsize=(3,3))\n",
    "    lst=[]\n",
    "    for name, hex in matplotlib.colors.cnames.items():\n",
    "        lst.append(hex)\n",
    "    #plt.gca().set_color_cycle(lst[0:9])\n",
    "    for i in range(accuracy.shape[0]):\n",
    "        plt.plot(dimsaftercompression, accuracy[i], label = setof[i] )\n",
    "    plt.xticks([50,500,1000, 1500, 2000])\n",
    "    plt.yticks([0,0.1,0.2,0.3,0.4,0.5,0.6,0.7,0.8,0.9,1,1.1])\n",
    "    plt.xlabel('Compression Length')\n",
    "    plt.ylabel('Accuracy')\n",
    "    plt.legend(prop={'size':8},loc = 4)\n",
    "    plt.savefig('1.jpg', bbox_inches='tight')\n",
    "    plt.show()\n"
   ]
  },
  {
   "cell_type": "code",
   "execution_count": null,
   "metadata": {},
   "outputs": [],
   "source": [
    "def plotcompressiontime(dimsaftercompression,timetaken):\n",
    "    plt.figure(figsize=(3,3))\n",
    "    plt.plot(dimsaftercompression, timetaken)\n",
    "    plt.xticks([50,500,1000, 1500, 2000])\n",
    "    plt.yticks([0,1,2,3,4,5,6,7,8])\n",
    "    plt.xlabel('Compression Length')\n",
    "    plt.ylabel('Compression Time (s)')\n",
    "    plt.savefig('2.jpg', bbox_inches='tight')\n",
    "    plt.show()"
   ]
  },
  {
   "cell_type": "code",
   "execution_count": null,
   "metadata": {},
   "outputs": [],
   "source": [
    "dimsaftercompression=[50, 100, 500, 1000, 1500, 2000]\n",
    "\n",
    "b=np.load('thisis.npy')\n",
    "#print (b.shape)\n",
    "#print (b[0:10][4:10])\n",
    "#c=b[0:10][4:10]\n",
    "#print (c.shape)\n",
    "#print (c.shape[0])\n",
    "plotaccuracy([10,20,30,40,50,100, 500, 1000, 1500, 2000],b)\n",
    "\n",
    "a=np.load('compression.npy')\n",
    "print (a[4:])\n",
    "plotcompressiontime(dimsaftercompression,a[4:])"
   ]
  },
  {
   "cell_type": "code",
   "execution_count": null,
   "metadata": {},
   "outputs": [],
   "source": []
  }
 ],
 "metadata": {
  "kernelspec": {
   "display_name": "Python 3",
   "language": "python",
   "name": "python3"
  },
  "language_info": {
   "codemirror_mode": {
    "name": "ipython",
    "version": 3
   },
   "file_extension": ".py",
   "mimetype": "text/x-python",
   "name": "python",
   "nbconvert_exporter": "python",
   "pygments_lexer": "ipython3",
   "version": "3.6.5"
  }
 },
 "nbformat": 4,
 "nbformat_minor": 2
}
