{
 "cells": [
  {
   "cell_type": "code",
   "execution_count": 1,
   "metadata": {
    "colab": {
     "autoexec": {
      "startup": false,
      "wait_interval": 0
     },
     "base_uri": "https://localhost:8080/",
     "height": 37
    },
    "colab_type": "code",
    "collapsed": true,
    "deletable": true,
    "editable": true,
    "executionInfo": {
     "elapsed": 1009,
     "status": "ok",
     "timestamp": 1530816327520,
     "user": {
      "displayName": "Karthik Revanuru",
      "photoUrl": "//lh6.googleusercontent.com/-xXq_Hz9mWwg/AAAAAAAAAAI/AAAAAAAABEg/TjD0u6izH-Y/s50-c-k-no/photo.jpg",
      "userId": "110203549390085495886"
     },
     "user_tz": -330
    },
    "id": "QiTkaWG7a3ff",
    "outputId": "cd41c3a1-ac2f-429c-c2ad-58f8eed685df"
   },
   "outputs": [],
   "source": [
    "# importing required software packages\n",
    "\n",
    "import numpy as np\n",
    "import random\n",
    "from random import randint\n",
    "import time\n",
    "import matplotlib.pyplot as plt\n",
    "import matplotlib"
   ]
  },
  {
   "cell_type": "code",
   "execution_count": 2,
   "metadata": {
    "colab": {
     "autoexec": {
      "startup": false,
      "wait_interval": 0
     },
     "base_uri": "https://localhost:8080/",
     "height": 37
    },
    "colab_type": "code",
    "collapsed": false,
    "deletable": true,
    "editable": true,
    "executionInfo": {
     "elapsed": 1228,
     "status": "ok",
     "timestamp": 1530816328803,
     "user": {
      "displayName": "Karthik Revanuru",
      "photoUrl": "//lh6.googleusercontent.com/-xXq_Hz9mWwg/AAAAAAAAAAI/AAAAAAAABEg/TjD0u6izH-Y/s50-c-k-no/photo.jpg",
      "userId": "110203549390085495886"
     },
     "user_tz": -330
    },
    "id": "DolUDqbGa3fx",
    "outputId": "f9271880-8c99-45b1-dd67-cb92d10e97f6"
   },
   "outputs": [],
   "source": [
    "# \"times\" is a variable used to store the average number of the times data is generated and averaged upon\n",
    "global times\n",
    "times = 1"
   ]
  },
  {
   "cell_type": "code",
   "execution_count": 3,
   "metadata": {
    "colab": {
     "autoexec": {
      "startup": false,
      "wait_interval": 0
     },
     "base_uri": "https://localhost:8080/",
     "height": 37
    },
    "colab_type": "code",
    "collapsed": true,
    "deletable": true,
    "editable": true,
    "executionInfo": {
     "elapsed": 879,
     "status": "ok",
     "timestamp": 1530816329744,
     "user": {
      "displayName": "Karthik Revanuru",
      "photoUrl": "//lh6.googleusercontent.com/-xXq_Hz9mWwg/AAAAAAAAAAI/AAAAAAAABEg/TjD0u6izH-Y/s50-c-k-no/photo.jpg",
      "userId": "110203549390085495886"
     },
     "user_tz": -330
    },
    "id": "cRCpwycRa3f-",
    "outputId": "4486b3a5-14b3-4458-bf5d-ea247dd7ea8a"
   },
   "outputs": [],
   "source": [
    "# function to generate input matrix\n",
    "def createinputmatrix(n, d, numberofones):\n",
    "    v = np.zeros([int(0.6*n), d])\n",
    "    for i in range(int(0.6*n)):\n",
    "        numones = randint(a = 1, b = numberofones)\n",
    "        for j in range(numones):\n",
    "            index = randint(a = 0, b = d-1)\n",
    "            v[i, index] = 1\n",
    "    for k in range(int(0.2*n)):\n",
    "        v1 = np.zeros([d])\n",
    "        v2 = np.zeros([d])\n",
    "        innerproduct = randint(a = 170, b = numberofones)\n",
    "        numones = randint(a = innerproduct, b = numberofones)\n",
    "        for j in range(innerproduct):\n",
    "            index = randint(a = 0, b = d-1)\n",
    "            v1[index] = 1\n",
    "            v2[index] = 1\n",
    "        for l in range(numones-innerproduct):\n",
    "            index = randint(a = 0, b = d-1)\n",
    "            v1[index] = 1\n",
    "        for l in range(numones-innerproduct):\n",
    "            index = randint(a = 0, b = d-1)\n",
    "            v2[index] = 1\n",
    "        v = np.append(v, values = [v1, v2], axis = 0)\n",
    "    return v"
   ]
  },
  {
   "cell_type": "code",
   "execution_count": 4,
   "metadata": {
    "colab": {
     "autoexec": {
      "startup": false,
      "wait_interval": 0
     },
     "base_uri": "https://localhost:8080/",
     "height": 37
    },
    "colab_type": "code",
    "collapsed": true,
    "deletable": true,
    "editable": true,
    "executionInfo": {
     "elapsed": 1457,
     "status": "ok",
     "timestamp": 1530816331259,
     "user": {
      "displayName": "Karthik Revanuru",
      "photoUrl": "//lh6.googleusercontent.com/-xXq_Hz9mWwg/AAAAAAAAAAI/AAAAAAAABEg/TjD0u6izH-Y/s50-c-k-no/photo.jpg",
      "userId": "110203549390085495886"
     },
     "user_tz": -330
    },
    "id": "P2agavo2a3gQ",
    "outputId": "5cb3e4ee-4540-48b5-d311-4d182822b3b7"
   },
   "outputs": [],
   "source": [
    "# auxiliary function to store compact information which used before compression\n",
    "\n",
    "def convertocompact(matrix):\n",
    "    compact = []\n",
    "    for i in range(matrix.shape[0]):\n",
    "        current = []\n",
    "        for j in range(matrix.shape[1]):\n",
    "            if(matrix[i][j]==1):\n",
    "                current.append(j)\n",
    "        compact.append(current)\n",
    "    return compact"
   ]
  },
  {
   "cell_type": "code",
   "execution_count": 5,
   "metadata": {
    "colab": {
     "autoexec": {
      "startup": false,
      "wait_interval": 0
     },
     "base_uri": "https://localhost:8080/",
     "height": 37
    },
    "colab_type": "code",
    "collapsed": true,
    "deletable": true,
    "editable": true,
    "executionInfo": {
     "elapsed": 1621,
     "status": "ok",
     "timestamp": 1530816333985,
     "user": {
      "displayName": "Karthik Revanuru",
      "photoUrl": "//lh6.googleusercontent.com/-xXq_Hz9mWwg/AAAAAAAAAAI/AAAAAAAABEg/TjD0u6izH-Y/s50-c-k-no/photo.jpg",
      "userId": "110203549390085495886"
     },
     "user_tz": -330
    },
    "id": "iCqeITb8a3gk",
    "outputId": "852a5909-a28a-4936-cb00-701f3a9695bb"
   },
   "outputs": [],
   "source": [
    "# Cosine Similarity formula used to compare two vectors in case of our BCS algorithm before and after compression\n",
    "\n",
    "def getcosinesimilarity(a, b):\n",
    "    innerproduct = np.inner(a,b)\n",
    "    a1 = np.count_nonzero(a)\n",
    "    b1 = np.count_nonzero(b)\n",
    "    temp = np.sqrt(a1)*np.sqrt(b1)\n",
    "    if temp!=0:\n",
    "        cs = innerproduct/temp\n",
    "    else:\n",
    "        return 1\n",
    "    return cs"
   ]
  },
  {
   "cell_type": "code",
   "execution_count": 6,
   "metadata": {
    "colab": {
     "autoexec": {
      "startup": false,
      "wait_interval": 0
     },
     "base_uri": "https://localhost:8080/",
     "height": 37
    },
    "colab_type": "code",
    "collapsed": true,
    "deletable": true,
    "editable": true,
    "executionInfo": {
     "elapsed": 852,
     "status": "ok",
     "timestamp": 1530816335088,
     "user": {
      "displayName": "Karthik Revanuru",
      "photoUrl": "//lh6.googleusercontent.com/-xXq_Hz9mWwg/AAAAAAAAAAI/AAAAAAAABEg/TjD0u6izH-Y/s50-c-k-no/photo.jpg",
      "userId": "110203549390085495886"
     },
     "user_tz": -330
    },
    "id": "DsGgunvYa3gw",
    "outputId": "84e08582-bcf4-441a-9c8e-94f14adbbf3d"
   },
   "outputs": [],
   "source": [
    "# Cosine Similarity formula used to compare two vectors in case of Simhash algorithm after compression\n",
    "\n",
    "def getcosinesimilaritySimhash(a, b):\n",
    "    hammingdistance = np.count_nonzero(a!=b)\n",
    "    cs = np.cos((np.pi/len(a))*hammingdistance) # length of a and b is equal\n",
    "    return cs"
   ]
  },
  {
   "cell_type": "code",
   "execution_count": 7,
   "metadata": {
    "colab": {
     "autoexec": {
      "startup": false,
      "wait_interval": 0
     },
     "base_uri": "https://localhost:8080/",
     "height": 37
    },
    "colab_type": "code",
    "collapsed": true,
    "deletable": true,
    "editable": true,
    "executionInfo": {
     "elapsed": 933,
     "status": "ok",
     "timestamp": 1530816336084,
     "user": {
      "displayName": "Karthik Revanuru",
      "photoUrl": "//lh6.googleusercontent.com/-xXq_Hz9mWwg/AAAAAAAAAAI/AAAAAAAABEg/TjD0u6izH-Y/s50-c-k-no/photo.jpg",
      "userId": "110203549390085495886"
     },
     "user_tz": -330
    },
    "id": "zY-J-2VOa3g7",
    "outputId": "c2066e9b-8c45-4c78-ce0b-a5a9e9405d70"
   },
   "outputs": [],
   "source": [
    "# Cosine Similarity formula used to compare two vectors in case of Minhash algorithm after compression\n",
    "\n",
    "def getcosinesimilarityMinhash(a, b):\n",
    "    hammingdistance = np.count_nonzero(a!=b)\n",
    "    R = 1 - (hammingdistance/len(a))  # length of a and b is equal\n",
    "    cs = (2*R)/(R+1)\n",
    "    return cs"
   ]
  },
  {
   "cell_type": "code",
   "execution_count": 8,
   "metadata": {
    "colab": {
     "autoexec": {
      "startup": false,
      "wait_interval": 0
     },
     "base_uri": "https://localhost:8080/",
     "height": 37
    },
    "colab_type": "code",
    "collapsed": true,
    "deletable": true,
    "editable": true,
    "executionInfo": {
     "elapsed": 946,
     "status": "ok",
     "timestamp": 1530816338476,
     "user": {
      "displayName": "Karthik Revanuru",
      "photoUrl": "//lh6.googleusercontent.com/-xXq_Hz9mWwg/AAAAAAAAAAI/AAAAAAAABEg/TjD0u6izH-Y/s50-c-k-no/photo.jpg",
      "userId": "110203549390085495886"
     },
     "user_tz": -330
    },
    "id": "O4o4uKtRa3hV",
    "outputId": "ce8f48a3-02a5-4de8-e73a-8418fcf2ccb6"
   },
   "outputs": [],
   "source": [
    "# function containing implementation of the BCS algorithm\n",
    "\n",
    "def ourtransform(reduceddim, matrix, n, d):\n",
    "    timeforour = []\n",
    "    start = time.time()\n",
    "    mapping = []\n",
    "    compressedmatrix = np.zeros([n,reduceddim])\n",
    "    for i in range(d):\n",
    "        toss = randint(0, reduceddim-1)\n",
    "        mapping.append(toss)\n",
    "    for i in range(n):\n",
    "        vector = matrix[i]\n",
    "        for j in vector:\n",
    "            compressedmatrix[i][mapping[j]] += 1\n",
    "        for j in vector:\n",
    "            compressedmatrix[i][mapping[j]] = compressedmatrix[i][mapping[j]]%2\n",
    "    end = time.time()\n",
    "    totaltime = end - start\n",
    "    timeforour.append(totaltime)\n",
    "    return compressedmatrix,timeforour"
   ]
  },
  {
   "cell_type": "code",
   "execution_count": 9,
   "metadata": {
    "colab": {
     "autoexec": {
      "startup": false,
      "wait_interval": 0
     },
     "base_uri": "https://localhost:8080/",
     "height": 37
    },
    "colab_type": "code",
    "collapsed": true,
    "deletable": true,
    "editable": true,
    "executionInfo": {
     "elapsed": 972,
     "status": "ok",
     "timestamp": 1530816339500,
     "user": {
      "displayName": "Karthik Revanuru",
      "photoUrl": "//lh6.googleusercontent.com/-xXq_Hz9mWwg/AAAAAAAAAAI/AAAAAAAABEg/TjD0u6izH-Y/s50-c-k-no/photo.jpg",
      "userId": "110203549390085495886"
     },
     "user_tz": -330
    },
    "id": "6DlK57cma3hl",
    "outputId": "5a7ce3cc-f835-4805-f1ff-b521eac0eb70"
   },
   "outputs": [],
   "source": [
    "# function containing implementation of the Minhash algorithm\n",
    "\n",
    "def minhash(reduceddim, matrix, n, d):\n",
    "    timeforminhash = []\n",
    "    start = time.time()\n",
    "    sigmatrix = np.zeros([n,reduceddim])\n",
    "    for i in range (reduceddim):\n",
    "        perm = np.random.permutation(d)\n",
    "        for j in range(n):\n",
    "            vector = matrix[j]\n",
    "            l = []\n",
    "            for k in vector:\n",
    "                l.append(perm[k])\n",
    "            sigmatrix[j][i] = min(l)\n",
    "    end = time.time()\n",
    "    timeforminhash.append(end-start)\n",
    "    return sigmatrix,timeforminhash"
   ]
  },
  {
   "cell_type": "code",
   "execution_count": 10,
   "metadata": {
    "colab": {
     "autoexec": {
      "startup": false,
      "wait_interval": 0
     },
     "base_uri": "https://localhost:8080/",
     "height": 37
    },
    "colab_type": "code",
    "collapsed": true,
    "deletable": true,
    "editable": true,
    "executionInfo": {
     "elapsed": 1133,
     "status": "ok",
     "timestamp": 1530816340686,
     "user": {
      "displayName": "Karthik Revanuru",
      "photoUrl": "//lh6.googleusercontent.com/-xXq_Hz9mWwg/AAAAAAAAAAI/AAAAAAAABEg/TjD0u6izH-Y/s50-c-k-no/photo.jpg",
      "userId": "110203549390085495886"
     },
     "user_tz": -330
    },
    "id": "3rBUmXp_a3hz",
    "outputId": "6b5194bb-ec47-4c8a-dc57-f4d8ccda807b"
   },
   "outputs": [],
   "source": [
    "# function containing implementation of the Simhash algorithm\n",
    "\n",
    "def simhash(reduceddim, matrix, n, d):\n",
    "    timeforsim = []\n",
    "    start = time.time()\n",
    "    sigmatrix = np.zeros([n,reduceddim])\n",
    "    for i in range (reduceddim):\n",
    "        rv = np.random.choice([1,-1], size=d, p=[0.5,0.5])\n",
    "        for j in range(n):\n",
    "            vector = matrix[j]\n",
    "            ip = 0\n",
    "            for k in vector:\n",
    "                ip += rv[k]\n",
    "            if(ip>0):\n",
    "                sigmatrix[j][i] = 1\n",
    "    end = time.time()\n",
    "    #print(end-start)\n",
    "    timeforsim.append(end-start)\n",
    "    return sigmatrix,timeforsim"
   ]
  },
  {
   "cell_type": "code",
   "execution_count": 11,
   "metadata": {
    "colab": {
     "autoexec": {
      "startup": false,
      "wait_interval": 0
     },
     "base_uri": "https://localhost:8080/",
     "height": 37
    },
    "colab_type": "code",
    "collapsed": true,
    "deletable": true,
    "editable": true,
    "executionInfo": {
     "elapsed": 777,
     "status": "ok",
     "timestamp": 1530816341513,
     "user": {
      "displayName": "Karthik Revanuru",
      "photoUrl": "//lh6.googleusercontent.com/-xXq_Hz9mWwg/AAAAAAAAAAI/AAAAAAAABEg/TjD0u6izH-Y/s50-c-k-no/photo.jpg",
      "userId": "110203549390085495886"
     },
     "user_tz": -330
    },
    "id": "SwqYR8c3a3h9",
    "outputId": "551c4e11-b7ec-4044-d6a8-1c5b73f42414"
   },
   "outputs": [],
   "source": [
    "# function used for obtaining all pairs in a vector and finding the similarity measure between them\n",
    "\n",
    "def getpairsets(matrix,method,flag):\n",
    "    set02 = set([])\n",
    "    set03 = set([])\n",
    "    set04 = set([])\n",
    "    set05 = set([])\n",
    "    set06 = set([])\n",
    "    set07 = set([])\n",
    "    set08 = set([])\n",
    "    set09 = set([])\n",
    "    for i in range(matrix.shape[0]):\n",
    "        vector = matrix[i]\n",
    "        for j in range(i+1, matrix.shape[0]):\n",
    "            if flag==\"original\":\n",
    "                cs = getcosinesimilarity(vector, matrix[j])\n",
    "            else:   #only other option is compressed\n",
    "                if method==\"bcs\":\n",
    "                    cs = getcosinesimilarity(vector, matrix[j])\n",
    "                elif method==\"minhash\":\n",
    "                    cs = getcosinesimilarityMinhash(vector, matrix[j])\n",
    "                else:   #only other option is simhash\n",
    "                    cs = getcosinesimilaritySimhash(vector, matrix[j])\n",
    "                    \n",
    "            if(cs >= 0.9):\n",
    "                set09.add((i,j))\n",
    "            if(cs >= 0.8):\n",
    "                set08.add((i,j))\n",
    "            if(cs >= 0.7):\n",
    "                set07.add((i,j))\n",
    "            if(cs >= 0.6):\n",
    "                set06.add((i,j))\n",
    "            if(cs >= 0.5):\n",
    "                set05.add((i,j))\n",
    "            if(cs >= 0.4):\n",
    "                set04.add((i,j))\n",
    "            if(cs >= 0.3):\n",
    "                set03.add((i,j))\n",
    "            if(cs >= 0.2):\n",
    "                set02.add((i,j))\n",
    "            \n",
    "                \n",
    "    return set02,set03,set04,set05,set06,set07,set08,set09\n",
    "    "
   ]
  },
  {
   "cell_type": "code",
   "execution_count": 12,
   "metadata": {
    "colab": {
     "autoexec": {
      "startup": false,
      "wait_interval": 0
     },
     "base_uri": "https://localhost:8080/",
     "height": 37
    },
    "colab_type": "code",
    "collapsed": true,
    "deletable": true,
    "editable": true,
    "executionInfo": {
     "elapsed": 1398,
     "status": "ok",
     "timestamp": 1530816342983,
     "user": {
      "displayName": "Karthik Revanuru",
      "photoUrl": "//lh6.googleusercontent.com/-xXq_Hz9mWwg/AAAAAAAAAAI/AAAAAAAABEg/TjD0u6izH-Y/s50-c-k-no/photo.jpg",
      "userId": "110203549390085495886"
     },
     "user_tz": -330
    },
    "id": "0UcbZ03Ea3iK",
    "outputId": "3e229f02-652a-48f1-f51a-90770a0d4fa3"
   },
   "outputs": [],
   "source": [
    "# function used to calculate accuracy given a vector and it's corresponding compressed vector\n",
    "\n",
    "def calculateaccuracy(matrix, compressedmatrix, method):\n",
    "    accuracyvar = []\n",
    "    oset2,oset3,oset4,oset5,oset6,oset7,oset8,oset9 = getpairsets(matrix,method,\"original\")\n",
    "    cset2,cset3,cset4,cset5,cset6,cset7,cset8,cset9 = getpairsets(compressedmatrix,method,\"compressed\")\n",
    "    intersection2 = len(oset2.intersection(cset2))\n",
    "    intersection3 = len(oset3.intersection(cset3))\n",
    "    intersection4 = len(oset4.intersection(cset4))\n",
    "    intersection5 = len(oset5.intersection(cset5))\n",
    "    intersection6 = len(oset6.intersection(cset6))\n",
    "    intersection7 = len(oset7.intersection(cset7))\n",
    "    intersection8 = len(oset8.intersection(cset8))\n",
    "    intersection9 = len(oset9.intersection(cset9))\n",
    "    \n",
    "    union2 = len(oset2.union(cset2))\n",
    "    union3 = len(oset3.union(cset3))\n",
    "    union4 = len(oset4.union(cset4))\n",
    "    union5 = len(oset5.union(cset5))\n",
    "    union6 = len(oset6.union(cset6))\n",
    "    union7 = len(oset7.union(cset7))\n",
    "    union8 = len(oset8.union(cset8))\n",
    "    union9 = len(oset9.union(cset9))\n",
    "    \n",
    "    #print(oset2)\n",
    "    #print(cset2)\n",
    "    if(union2==0):\n",
    "        accuracy2 = 1\n",
    "    else:\n",
    "        accuracy2 = intersection2/union2\n",
    "        \n",
    "    if(union3==0):\n",
    "        accuracy3 = 1\n",
    "    else:\n",
    "        accuracy3 = intersection3/union3\n",
    "        \n",
    "    if(union4==0):\n",
    "        accuracy4 = 1\n",
    "    else:\n",
    "        accuracy4 = intersection4/union4\n",
    "        \n",
    "    if(union5==0):\n",
    "        accuracy5 = 1\n",
    "    else:\n",
    "        accuracy5 = intersection5/union5\n",
    "    if(union6==0):\n",
    "        accuracy6 = 1\n",
    "    else:\n",
    "        accuracy6 = intersection6/union6\n",
    "        \n",
    "    if(union7==0):\n",
    "        accuracy7 = 1\n",
    "    else:\n",
    "        accuracy7 = intersection7/union7\n",
    "        \n",
    "    if(union8==0):\n",
    "        accuracy8 = 1\n",
    "    else:\n",
    "        accuracy8 = intersection8/union8\n",
    "        \n",
    "    if(union9==0):\n",
    "        accuracy9 = 1\n",
    "    else:\n",
    "        accuracy9 = intersection9/union9\n",
    "        \n",
    "    accuracyvar.append(accuracy2)\n",
    "    accuracyvar.append(accuracy3)\n",
    "    accuracyvar.append(accuracy4)\n",
    "    accuracyvar.append(accuracy5)\n",
    "    accuracyvar.append(accuracy6)\n",
    "    accuracyvar.append(accuracy7)\n",
    "    accuracyvar.append(accuracy8)\n",
    "    accuracyvar.append(accuracy9)\n",
    "    return accuracyvar"
   ]
  },
  {
   "cell_type": "code",
   "execution_count": 13,
   "metadata": {
    "colab": {
     "autoexec": {
      "startup": false,
      "wait_interval": 0
     },
     "base_uri": "https://localhost:8080/",
     "height": 37
    },
    "colab_type": "code",
    "collapsed": true,
    "deletable": true,
    "editable": true,
    "executionInfo": {
     "elapsed": 951,
     "status": "ok",
     "timestamp": 1530816343985,
     "user": {
      "displayName": "Karthik Revanuru",
      "photoUrl": "//lh6.googleusercontent.com/-xXq_Hz9mWwg/AAAAAAAAAAI/AAAAAAAABEg/TjD0u6izH-Y/s50-c-k-no/photo.jpg",
      "userId": "110203549390085495886"
     },
     "user_tz": -330
    },
    "id": "Omryfv1qa3iT",
    "outputId": "ef959840-d316-4313-e51b-1ebc6f73f5d2"
   },
   "outputs": [],
   "source": [
    "accuracyminhash = []\n",
    "\n",
    "# \"sparsity\" contains different values of sparsity used to calculate accuracy and other measures given a compression length \n",
    "#  value 5000\n",
    "sparsity = [200, 500, 1000, 2000, 3000, 4000, 7000, 9000, 10000]\n",
    "\n",
    "# \"dimsaftercompression\" contains different values of compression length used to calculate accuracy and other measures given a \n",
    "#  sparsity value 200\n",
    "dimsaftercompression = [50, 100, 500, 1000, 1200, 1500, 2000, 2500, 5000, 7000, 8000, 10000]"
   ]
  },
  {
   "cell_type": "code",
   "execution_count": 14,
   "metadata": {
    "colab": {
     "autoexec": {
      "startup": false,
      "wait_interval": 0
     },
     "base_uri": "https://localhost:8080/",
     "height": 37
    },
    "colab_type": "code",
    "collapsed": false,
    "deletable": true,
    "editable": true,
    "executionInfo": {
     "elapsed": 990,
     "status": "ok",
     "timestamp": 1530816345030,
     "user": {
      "displayName": "Karthik Revanuru",
      "photoUrl": "//lh6.googleusercontent.com/-xXq_Hz9mWwg/AAAAAAAAAAI/AAAAAAAABEg/TjD0u6izH-Y/s50-c-k-no/photo.jpg",
      "userId": "110203549390085495886"
     },
     "user_tz": -330
    },
    "id": "iqWoGxwpa3ia",
    "outputId": "dd361b4e-cf6a-4c41-ab55-b49d3951769c"
   },
   "outputs": [],
   "source": [
    "# function to calculate different metrics like accuracy and  compression time by varying compression length value &\n",
    "# keeping sparsity constant\n",
    "\n",
    "def getalldataourConstantSparsity(method1,method2,method3):\n",
    "    accuracyBCS = []\n",
    "    timeforourlist = [] # list for storing compression time values for obtaining all pairs on the compressed vector via BCS\n",
    "    \n",
    "    accuracyMinhash = []\n",
    "    timeforMinhashlist = [] # list for storing compression time values for obtaining all pairs on the compressed vector via minhash\n",
    "    \n",
    "    accuracySimhash = []\n",
    "    timeforSimhashlist = [] # list for storing compression time values for obtaining all pairs on the compressed vector via Simhash\n",
    "    matrix = createinputmatrix(1000, 100000, 200)\n",
    "    compactmatrix = convertocompact(matrix)\n",
    "    for i in dimsaftercompression:\n",
    "        print(i)\n",
    "        #Calculating Accuracy and Compression time for BCS with constant Sparsity and varying Compression length\n",
    "        compressedmatrix,timeforour = ourtransform(i, compactmatrix, matrix.shape[0], matrix.shape[1])\n",
    "        timeforourlist.append(timeforour)\n",
    "        accuracyBCStemp = calculateaccuracy(matrix, compressedmatrix, method1)\n",
    "        accuracyBCS.append(accuracyBCStemp)\n",
    "        print(\"bcs\")\n",
    "        \n",
    "        #Calculating Accuracy and Compression time for Minhash with constant Sparsity and varying Compression length\n",
    "        compressedmatrix,timeforour = minhash(i, compactmatrix, matrix.shape[0], matrix.shape[1])\n",
    "        timeforMinhashlist.append(timeforour)\n",
    "        accuracyMinhashtemp = calculateaccuracy(matrix, compressedmatrix, method2)\n",
    "        accuracyMinhash.append(accuracyMinhashtemp)\n",
    "        print(\"minhash\")\n",
    "        \n",
    "        #Calculating Accuracy and Compression time for Simhash with constant Sparsity and varying Compression length\n",
    "        compressedmatrix,timeforour = simhash(i, compactmatrix, matrix.shape[0], matrix.shape[1])\n",
    "        timeforSimhashlist.append(timeforour)\n",
    "        accuracySimhashtemp = calculateaccuracy(matrix, compressedmatrix, method3)\n",
    "        accuracySimhash.append(accuracySimhashtemp)\n",
    "        print(\"simhash\")\n",
    "        \n",
    "    return np.array(list(map(list,zip(*accuracyBCS)))),np.array(timeforourlist),np.array(list(map(list,zip(*accuracyMinhash)))),np.array(timeforMinhashlist),np.array(list(map(list,zip(*accuracySimhash)))),np.array(timeforSimhashlist)\n",
    "    \n",
    "    "
   ]
  },
  {
   "cell_type": "code",
   "execution_count": null,
   "metadata": {
    "colab": {
     "autoexec": {
      "startup": false,
      "wait_interval": 0
     },
     "base_uri": "https://localhost:8080/",
     "height": 1223
    },
    "colab_type": "code",
    "collapsed": false,
    "deletable": true,
    "editable": true,
    "id": "DOUnXx7ra3ij",
    "outputId": "9ee1c26d-7927-40b5-da14-d015bb3cd19f"
   },
   "outputs": [],
   "source": [
    "# calling all necessary functions to calculate metrics like accuracy and compression time\n",
    "\n",
    "ouraccuconstsparsity = np.zeros([8,len(dimsaftercompression)])\n",
    "timeforour = np.zeros([len(dimsaftercompression),1])\n",
    "\n",
    "\n",
    "Minhashaccuconstsparsity = np.zeros([8,len(dimsaftercompression)])\n",
    "timeforMinhash = np.zeros([len(dimsaftercompression),1])\n",
    "\n",
    "\n",
    "Simhashaccuconstsparsity = np.zeros([8,len(dimsaftercompression)])\n",
    "timeforSimhash = np.zeros([len(dimsaftercompression),1])\n",
    "for i in range(times):\n",
    "    print(i)\n",
    "    ouraccuconstsparsitytemp,timeforourtemp,Minhashaccuconstsparsitytemp,timeforMinhashtemp,Simhashaccuconstsparsitytemp,timeforSimhashtemp = getalldataourConstantSparsity(\"bcs\",\"minhash\",\"simhash\")\n",
    "    \n",
    "\n",
    "    ouraccuconstsparsity = ouraccuconstsparsity + ouraccuconstsparsitytemp\n",
    "    timeforour = timeforour + timeforourtemp\n",
    "   \n",
    "    \n",
    "    Minhashaccuconstsparsity = Minhashaccuconstsparsity + Minhashaccuconstsparsitytemp\n",
    "    timeforMinhash = timeforMinhash + timeforMinhashtemp\n",
    "   \n",
    "    \n",
    "    Simhashaccuconstsparsity = Simhashaccuconstsparsity + Simhashaccuconstsparsitytemp\n",
    "    timeforSimhash = timeforSimhash + timeforSimhashtemp"
   ]
  },
  {
   "cell_type": "code",
   "execution_count": 31,
   "metadata": {
    "collapsed": false,
    "deletable": true,
    "editable": true
   },
   "outputs": [],
   "source": [
    "np.save(\"ouraccuconstsparsity.npy\",ouraccuconstsparsity)\n",
    "np.save(\"timeforour.npy\",timeforour)\n",
    "np.save(\"Minhashaccuconstsparsity.npy\",Minhashaccuconstsparsity)\n",
    "np.save(\"timeforMinhash.npy\",timeforMinhash)\n",
    "np.save(\"Simhashaccuconstsparsity.npy\",Simhashaccuconstsparsity)\n",
    "np.save(\"timeforSimhash.npy\",timeforSimhash)"
   ]
  },
  {
   "cell_type": "code",
   "execution_count": 21,
   "metadata": {
    "colab": {
     "autoexec": {
      "startup": false,
      "wait_interval": 0
     }
    },
    "colab_type": "code",
    "collapsed": true,
    "deletable": true,
    "editable": true,
    "id": "5LFeST-ta3i3"
   },
   "outputs": [],
   "source": [
    "# function to plot accuracy values for different threshold values in the case of constant sparsity\n",
    "\n",
    "def plotaccuracyconstsparsity(accuracy,method,name):    \n",
    "    setof = [0.2,.3,0.4,0.5,0.6,0.7,0.8,0.9,1]\n",
    "    plt.figure(figsize=(3,3))\n",
    "    #for i in range(accuracy.shape[0]):\n",
    "    for i in range(8):\n",
    "        plt.plot(dimsaftercompression, accuracy[i], label = setof[i] )\n",
    "    #plt.grid(b=True, which='major')\n",
    "    \n",
    "    #plt.xticks([0,1000,2000,3000,4000,5000])\n",
    "    plt.yticks([0,0.1,0.2,0.3,0.4,0.5,0.6,0.7,0.8,0.9,1,1.1])\n",
    "    #matplotlib.rc('xtick', labelsize=10) \n",
    "    #matplotlib.rc('ytick', labelsize=10)\n",
    "    if method=='bcs':\n",
    "        temp = 'bcs_'+name+'.jpg'\n",
    "    elif method=='minhash':\n",
    "        temp = 'minhash_'+name+'.jpg'\n",
    "    else:\n",
    "        temp = 'simhash_'+name+'.jpg'\n",
    "    plt.xlabel('Compression Length')\n",
    "    plt.ylabel('Accuracy')\n",
    "    plt.legend(prop={'size':8},loc = 4)\n",
    "    plt.savefig(temp, bbox_inches='tight')\n",
    "    plt.show()"
   ]
  },
  {
   "cell_type": "code",
   "execution_count": 22,
   "metadata": {
    "colab": {
     "autoexec": {
      "startup": false,
      "wait_interval": 0
     }
    },
    "colab_type": "code",
    "collapsed": true,
    "deletable": true,
    "editable": true,
    "id": "OCps1TJ-a3jm"
   },
   "outputs": [],
   "source": [
    "# function to plot compression time values for different threshold values in the case of constant sparsity\n",
    "\n",
    "def plotcompressiontimetakenconstsparsity(timetaken,ylabel,method,name):    \n",
    "    plt.figure(figsize=(3,3))\n",
    "    plt.plot(dimsaftercompression, timetaken)\n",
    "    #plt.grid(b=True, which='major')\n",
    "    #plt.xticks(dimsaftercompression)\n",
    "    \n",
    "    #plt.xticks([0,2000,4000,6000,8000,10000])\n",
    "    #plt.yticks([0,1,2,3,4,5,6,7,8])\n",
    "    #if method=='bcs':\n",
    "    #    plt.yticks([0,2,4,6,8,10])\n",
    "    #matplotlib.rc('xtick', labelsize=10) \n",
    "    #matplotlib.rc('ytick', labelsize=10) \n",
    "    plt.xlabel('Compression Length')\n",
    "    plt.ylabel(ylabel)\n",
    "    if method=='bcs':\n",
    "        temp = 'bcs_'+name+'.jpg'\n",
    "        plt.yticks([0,2,4,6,8,10])\n",
    "    elif method=='minhash':\n",
    "        temp = 'minhash_'+name+'.jpg'\n",
    "    else:\n",
    "        temp = 'simhash_'+name+'.jpg'\n",
    "    plt.savefig(temp, bbox_inches='tight')\n",
    "    \n",
    "    plt.show()\n",
    "\n",
    "    "
   ]
  },
  {
   "cell_type": "code",
   "execution_count": null,
   "metadata": {
    "colab": {
     "autoexec": {
      "startup": false,
      "wait_interval": 0
     }
    },
    "colab_type": "code",
    "collapsed": false,
    "deletable": true,
    "editable": true,
    "id": "Th2ZGzhza3kO"
   },
   "outputs": [],
   "source": [
    "print(\"Constant Sparsity\")\n",
    "\n",
    "print(\"BCS\")\n",
    "plotaccuracyconstsparsity(ouraccuconstsparsity/times,'bcs','accuracyconstsparsity')\n",
    "plotcompressiontimetakenconstsparsity(timeforour/times,'Compression Time (s)','bcs','compressiontimeconstsparsity')\n",
    "\n",
    "print(\"Minhash\")\n",
    "plotaccuracyconstsparsity(Minhashaccuconstsparsity/times,'minhash','accuracyconstsparsity')\n",
    "plotcompressiontimetakenconstsparsity(timeforMinhash/times,'Compression Time (s)','minhash','compressiontimeconstsparsity')\n",
    "\n",
    "print(\"Simhash\")\n",
    "plotaccuracyconstsparsity(Simhashaccuconstsparsity/times,'simhash','accuracyconstsparsity')\n",
    "plotcompressiontimetakenconstsparsity(timeforSimhash/times,'Compression Time (s)','simhash','compressiontimeconstsparsity')"
   ]
  },
  {
   "cell_type": "code",
   "execution_count": 19,
   "metadata": {
    "colab": {
     "autoexec": {
      "startup": false,
      "wait_interval": 0
     }
    },
    "colab_type": "code",
    "collapsed": true,
    "deletable": true,
    "editable": true,
    "id": "4eCTSscFa3ka"
   },
   "outputs": [],
   "source": [
    "# function to calculate different metrics like accuracy and compression time by varying sparsity and\n",
    "# keeping compression length value constant\n",
    "\n",
    "def getalldataourConstantCompresseddimension(method1,method2,method3):\n",
    "    accuracyBCS = []\n",
    "    timeforourlist = [] # list for storing compression time values for obtaining all pairs on the compressed vector via BCS\n",
    "    \n",
    "    accuracyMinhash = []\n",
    "    timeforMinhashlist = [] # list for storing compression time values for obtaining all pairs on the compressed vector via minhash\n",
    "    \n",
    "    accuracySimhash = []\n",
    "    timeforSimhashlist = [] # list for storing compression time values for obtaining all pairs on the compressed vector via Simhash\n",
    "    \n",
    "    \n",
    "    \n",
    "    for i in sparsity: \n",
    "        matrix = createinputmatrix(1000, 100000, i)\n",
    "        compactmatrix = convertocompact(matrix)\n",
    "        print(i)\n",
    "        \n",
    "        #Calculating Accuracy and Compression time for BCS with varying Sparsity and constant Compression length\n",
    "        compressedmatrix,timeforour = ourtransform(5000, compactmatrix, matrix.shape[0], matrix.shape[1])\n",
    "        timeforourlist.append(timeforour)\n",
    "        accuracyBCStemp = calculateaccuracy(matrix, compressedmatrix, method1)\n",
    "        accuracyBCS.append(accuracyBCStemp)\n",
    "        print(\"bcs\")\n",
    "        \n",
    "        #Calculating Accuracy and Compression time for Minhash with varying Sparsity and constant Compression length\n",
    "        compressedmatrix,timeforour = minhash(5000, compactmatrix, matrix.shape[0], matrix.shape[1])\n",
    "        timeforMinhashlist.append(timeforour)\n",
    "        accuracyMinhashtemp= calculateaccuracy(matrix, compressedmatrix, method2)\n",
    "        accuracyMinhash.append(accuracyMinhashtemp)\n",
    "        print(\"minhash\")\n",
    "\n",
    "        #Calculating Accuracy and Compression time for Simhash with varying Sparsity and constant Compression length\n",
    "        compressedmatrix,timeforour = simhash(5000, compactmatrix, matrix.shape[0], matrix.shape[1])\n",
    "        timeforSimhashlist.append(timeforour)\n",
    "        accuracySimhashtemp = calculateaccuracy(matrix, compressedmatrix, method3)\n",
    "        accuracySimhash.append(accuracySimhashtemp)\n",
    "        print(\"simhash\")\n",
    "        \n",
    "        \n",
    "    return np.array(list(map(list,zip(*accuracyBCS)))),np.array(timeforourlist), np.array(list(map(list,zip(*accuracyMinhash)))),np.array(timeforMinhashlist),np.array(list(map(list,zip(*accuracySimhash)))),np.array(timeforSimhashlist)\n",
    "    "
   ]
  },
  {
   "cell_type": "code",
   "execution_count": null,
   "metadata": {
    "colab": {
     "autoexec": {
      "startup": false,
      "wait_interval": 0
     }
    },
    "colab_type": "code",
    "collapsed": false,
    "deletable": true,
    "editable": true,
    "id": "7dKAwDFUa3kh"
   },
   "outputs": [],
   "source": [
    "# calling all necessary functions to calculate metrics like accuracy and compression time\n",
    "\n",
    "ouraccuconstdimension_sp = np.zeros([8,len(sparsity)])\n",
    "timeforour_sp = np.zeros([len(sparsity),1])\n",
    "\n",
    "\n",
    "Minhashaccuconstdimension_sp = np.zeros([8,len(sparsity)])\n",
    "timeforMinhash_sp = np.zeros([len(sparsity),1])\n",
    "\n",
    "\n",
    "Simhashaccuconstdimension_sp = np.zeros([8,len(sparsity)])\n",
    "timeforSimhash_sp = np.zeros([len(sparsity),1])\n",
    "\n",
    "\n",
    "for i in range(times):\n",
    "    print(i)\n",
    "    ouraccuconstdimensiontemp,timeforourtemp,Minhashaccuconstdimensiontemp,timeforMinhashtemp,Simhashaccuconstdimensiontemp,timeforSimhashtemp = getalldataourConstantCompresseddimension(\"bcs\",\"minhash\",\"simhash\")\n",
    "\n",
    "    \n",
    "    ouraccuconstdimension_sp = ouraccuconstdimension_sp + ouraccuconstdimensiontemp\n",
    "    timeforour_sp = timeforour_sp + timeforourtemp\n",
    "    \n",
    "    Minhashaccuconstdimension_sp = Minhashaccuconstdimension_sp + Minhashaccuconstdimensiontemp\n",
    "    timeforMinhash_sp = timeforMinhash_sp + timeforMinhashtemp\n",
    "    \n",
    "    Simhashaccuconstdimension_sp = Simhashaccuconstdimension_sp + Simhashaccuconstdimensiontemp\n",
    "    timeforSimhash_sp = timeforSimhash_sp + timeforSimhashtemp"
   ]
  },
  {
   "cell_type": "code",
   "execution_count": null,
   "metadata": {
    "colab": {
     "autoexec": {
      "startup": false,
      "wait_interval": 0
     }
    },
    "colab_type": "code",
    "collapsed": true,
    "deletable": true,
    "editable": true,
    "id": "QOH5UBnma3km"
   },
   "outputs": [],
   "source": [
    "# function to plot accuracy values for different threshold values in the case of constant compression length\n",
    "\n",
    "def plotaccuracyconstdimension(accuracy,method,name):    \n",
    "    setof = [0.2,0.3,0.4,0.5,0.6,0.7,0.8,0.9,1]\n",
    "    plt.figure(figsize=(3,3))\n",
    "    #for i in range(accuracy.shape[0]):\n",
    "    for i in range(8):\n",
    "        plt.plot(sparsity, accuracy[i], label = setof[i] )\n",
    "    #plt.grid(b=True, which='major')\n",
    "    \n",
    "    #plt.xticks([0,1000,2000,3000,4000,5000])\n",
    "    plt.yticks([0,0.1,0.2,0.3,0.4,0.5,0.6,0.7,0.8,0.9,1,1.1])\n",
    "    #matplotlib.rc('xtick', labelsize=10) \n",
    "    #matplotlib.rc('ytick', labelsize=10)\n",
    "    if method=='bcs':\n",
    "        temp = 'bcs_'+name+'.jpg'\n",
    "    elif method=='minhash':\n",
    "        temp = 'minhash_'+name+'.jpg'\n",
    "    else:\n",
    "        temp = 'simhash_'+name+'.jpg'\n",
    "    plt.xlabel('Sparsity')\n",
    "    plt.ylabel('Accuracy')\n",
    "    plt.legend(prop={'size':8},loc = 4)\n",
    "    plt.savefig(temp, bbox_inches='tight')\n",
    "    plt.show()"
   ]
  },
  {
   "cell_type": "code",
   "execution_count": null,
   "metadata": {
    "colab": {
     "autoexec": {
      "startup": false,
      "wait_interval": 0
     }
    },
    "colab_type": "code",
    "collapsed": true,
    "deletable": true,
    "editable": true,
    "id": "w78ZbiO5a3k5"
   },
   "outputs": [],
   "source": [
    "# function to plot compression time values for different threshold values in the case of constant compression length\n",
    "\n",
    "def plotcompressiontimetakenconstdimension(timetaken,ylabel,method,name):    \n",
    "    plt.figure(figsize=(3,3))\n",
    "    plt.plot(sparsity, timetaken)\n",
    "    #plt.grid(b=True, which='major')\n",
    "    #plt.xticks(dimsaftercompression)\n",
    "    #plt.xticks([0,2000,4000,6000,8000,10000])\n",
    "    #plt.yticks([0,100,200,300,400,500,600])\n",
    "    #matplotlib.rc('xtick', labelsize=10) \n",
    "    #matplotlib.rc('ytick', labelsize=10) \n",
    "    if method=='bcs':\n",
    "        temp = 'bcs_'+name+'.jpg'\n",
    "        plt.yticks([0,2,4,6,8,10])\n",
    "    elif method=='minhash':\n",
    "        temp = 'minhash_'+name+'.jpg'\n",
    "        plt.yticks([0,1000,2000,3000,4000,5000,6000,7000])\n",
    "    else:\n",
    "        temp = 'simhash_'+name+'.jpg'\n",
    "    plt.xlabel('Sparsity')\n",
    "    plt.ylabel(ylabel)\n",
    "    plt.savefig(temp, bbox_inches='tight')\n",
    "    \n",
    "    plt.show()\n"
   ]
  },
  {
   "cell_type": "code",
   "execution_count": null,
   "metadata": {
    "colab": {
     "autoexec": {
      "startup": false,
      "wait_interval": 0
     }
    },
    "colab_type": "code",
    "collapsed": false,
    "deletable": true,
    "editable": true,
    "id": "8-uP-IU6a3lD"
   },
   "outputs": [],
   "source": [
    "\n",
    "print(\"Constant Compressed length\")\n",
    "\n",
    "print(\"BCS\")\n",
    "plotaccuracyconstdimension(ouraccuconstdimension_sp/times,'bcs','accuracyconstdim')\n",
    "plotcompressiontimetakenconstdimension(timeforour_sp/times,'Compression Time (s)','bcs','compressiontimeconstdim')\n",
    "\n",
    "print(\"Minhash\")\n",
    "plotaccuracyconstdimension(Minhashaccuconstdimension_sp/times,'minhash','accuracyconstdim')\n",
    "plotcompressiontimetakenconstdimension(timeforMinhash_sp/times,'Compression Time (s)','minhash','compressiontimeconstdim')\n",
    "\n",
    "print(\"Simhash\")\n",
    "plotaccuracyconstdimension(Simhashaccuconstdimension_sp/times,'simhash','accuracyconstdim')\n",
    "plotcompressiontimetakenconstdimension(timeforSimhash_sp/times,'Compression Time (s)','simhash','compressiontimeconstdim')"
   ]
  },
  {
   "cell_type": "code",
   "execution_count": null,
   "metadata": {
    "colab": {
     "autoexec": {
      "startup": false,
      "wait_interval": 0
     }
    },
    "colab_type": "code",
    "collapsed": true,
    "deletable": true,
    "editable": true,
    "id": "kDNFq3Tya3lL"
   },
   "outputs": [],
   "source": []
  }
 ],
 "metadata": {
  "colab": {
   "default_view": {},
   "name": "jaccardsimilarityAndCosinesimilarity_syntheticData.ipynb",
   "provenance": [],
   "version": "0.3.2",
   "views": {}
  },
  "kernelspec": {
   "display_name": "Python 3",
   "language": "python",
   "name": "python3"
  },
  "language_info": {
   "codemirror_mode": {
    "name": "ipython",
    "version": 3
   },
   "file_extension": ".py",
   "mimetype": "text/x-python",
   "name": "python",
   "nbconvert_exporter": "python",
   "pygments_lexer": "ipython3",
   "version": "3.5.2"
  }
 },
 "nbformat": 4,
 "nbformat_minor": 1
}
